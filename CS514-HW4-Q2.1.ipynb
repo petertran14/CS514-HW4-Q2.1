{
 "cells": [
  {
   "cell_type": "code",
   "execution_count": 1,
   "id": "9dc1fb72",
   "metadata": {},
   "outputs": [],
   "source": [
    "from scipy.sparse.csgraph import connected_components\n",
    "import numpy as np\n",
    "import csv\n",
    "import matplotlib.pyplot as plt\n",
    "import statistics\n",
    "from numpy import linalg as LA"
   ]
  },
  {
   "cell_type": "markdown",
   "id": "042d7b08",
   "metadata": {},
   "source": [
    "# Graph A is the Stochastic Block Model"
   ]
  },
  {
   "cell_type": "markdown",
   "id": "3f944cf1",
   "metadata": {},
   "source": [
    "Reformatting the matrices to a list representation"
   ]
  },
  {
   "cell_type": "code",
   "execution_count": 2,
   "id": "f6e94339",
   "metadata": {},
   "outputs": [],
   "source": [
    "row_matrix = []\n",
    "with open('A.csv', newline='') as csvfile:\n",
    "    spamreader = csv.reader(csvfile, delimiter=' ', quotechar='|')\n",
    "    for row in spamreader:\n",
    "        row_matrix.append(row)\n",
    "        \n",
    "m = row_matrix[0][0].split(',')\n",
    "\n",
    "num_rows = len(row_matrix)\n",
    "num_cols = len(m)\n",
    "\n",
    "#print(type(m[0]))\n",
    "\n",
    "adj_matrix = []\n",
    "for i in range(num_rows) :\n",
    "    m = row_matrix[i][0].split(',')\n",
    "    temp = []\n",
    "    for j in range(num_cols) :\n",
    "        temp.append(int(m[j]))\n",
    "    adj_matrix.append(temp)\n",
    "    \n",
    "#print(len(adj_matrix[1]))"
   ]
  },
  {
   "cell_type": "markdown",
   "id": "1c0da070",
   "metadata": {},
   "source": [
    "Display the Largest and Second Largest Eigenvalue"
   ]
  },
  {
   "cell_type": "code",
   "execution_count": 8,
   "id": "367c46b7",
   "metadata": {},
   "outputs": [
    {
     "name": "stdout",
     "output_type": "stream",
     "text": [
      "[-1.13835608e+01 -1.08015654e+01 -1.04190121e+01 -1.03146432e+01\n",
      " -9.96896160e+00 -9.87961325e+00 -9.64569857e+00 -9.56868226e+00\n",
      " -9.42186218e+00 -9.17372233e+00 -8.94205141e+00 -8.90501216e+00\n",
      " -8.75550372e+00 -8.59651840e+00 -8.55662531e+00 -8.35581999e+00\n",
      " -8.19858697e+00 -8.18210360e+00 -7.83866526e+00 -7.76569764e+00\n",
      " -7.65171169e+00 -7.54760881e+00 -7.50518008e+00 -7.48095580e+00\n",
      " -7.18046870e+00 -7.04895037e+00 -6.92652010e+00 -6.90527522e+00\n",
      " -6.81938224e+00 -6.61760346e+00 -6.50370994e+00 -6.46738269e+00\n",
      " -6.36830189e+00 -6.27428081e+00 -6.09710660e+00 -5.99737717e+00\n",
      " -5.92707376e+00 -5.74602099e+00 -5.70564071e+00 -5.57744310e+00\n",
      " -5.45072205e+00 -5.29873089e+00 -5.21303788e+00 -5.11686055e+00\n",
      " -5.02875287e+00 -4.91349112e+00 -4.83443699e+00 -4.66903901e+00\n",
      " -4.64175997e+00 -4.45721304e+00 -4.39080182e+00 -4.25332936e+00\n",
      " -4.22244148e+00 -4.13193136e+00 -4.09539425e+00 -3.98755197e+00\n",
      " -3.92053549e+00 -3.76860545e+00 -3.76371662e+00 -3.61643614e+00\n",
      " -3.47838263e+00 -3.36119432e+00 -3.31439800e+00 -3.19636222e+00\n",
      " -3.11818822e+00 -2.99613383e+00 -2.93226930e+00 -2.86266242e+00\n",
      " -2.70796986e+00 -2.63958418e+00 -2.60518719e+00 -2.56088211e+00\n",
      " -2.41961648e+00 -2.30833947e+00 -2.23379775e+00 -2.16440996e+00\n",
      " -2.09755351e+00 -1.99822913e+00 -1.94752985e+00 -1.84745553e+00\n",
      " -1.69135205e+00 -1.62544536e+00 -1.47691244e+00 -1.40825336e+00\n",
      " -1.25414700e+00 -1.20640573e+00 -1.07431164e+00 -9.88143495e-01\n",
      " -8.60773945e-01 -7.98994975e-01 -7.88115890e-01 -7.04451560e-01\n",
      " -5.77653744e-01 -5.41662816e-01 -3.73684993e-01 -1.39501490e-01\n",
      " -1.15769858e-01 -6.66255499e-02  1.93740219e-02  2.11608555e-01\n",
      "  2.73233240e-01  3.11778727e-01  4.07122723e-01  4.37525195e-01\n",
      "  5.16940032e-01  5.84179694e-01  7.14017056e-01  8.42183340e-01\n",
      "  9.54403002e-01  9.71602082e-01  1.07321197e+00  1.12764076e+00\n",
      "  1.19447996e+00  1.30331299e+00  1.44131661e+00  1.56987121e+00\n",
      "  1.70981136e+00  1.80233284e+00  1.91076472e+00  1.94247335e+00\n",
      "  2.05401700e+00  2.13128144e+00  2.14622546e+00  2.30383000e+00\n",
      "  2.37136494e+00  2.49191219e+00  2.52443309e+00  2.64969133e+00\n",
      "  2.75573024e+00  2.90167223e+00  2.95333606e+00  2.97143818e+00\n",
      "  3.08905453e+00  3.11997072e+00  3.28956863e+00  3.31825348e+00\n",
      "  3.39276731e+00  3.55148152e+00  3.69950219e+00  3.72275780e+00\n",
      "  3.81337176e+00  3.85674478e+00  3.95659917e+00  3.98734123e+00\n",
      "  4.16472848e+00  4.34398456e+00  4.49679681e+00  4.50976307e+00\n",
      "  4.58151935e+00  4.63445272e+00  4.87074708e+00  5.03197963e+00\n",
      "  5.05990942e+00  5.11916742e+00  5.12820479e+00  5.23300931e+00\n",
      "  5.42754377e+00  5.50756757e+00  5.52540242e+00  5.68276138e+00\n",
      "  5.76529634e+00  5.90577375e+00  5.92963147e+00  6.03534628e+00\n",
      "  6.18530993e+00  6.32393289e+00  6.47129331e+00  6.55129989e+00\n",
      "  6.73250933e+00  6.74617323e+00  6.83312149e+00  7.13799358e+00\n",
      "  7.19723054e+00  7.31765820e+00  7.32262976e+00  7.44573058e+00\n",
      "  7.81080164e+00  7.83131684e+00  7.88217432e+00  8.06303206e+00\n",
      "  8.14511188e+00  8.28731378e+00  8.36095345e+00  8.40419724e+00\n",
      "  8.50918403e+00  8.72751341e+00  8.87280099e+00  8.90059970e+00\n",
      "  9.05437214e+00  9.22871752e+00  9.46957637e+00  9.63821982e+00\n",
      "  9.78641321e+00  9.98028786e+00  1.01367397e+01  1.03776192e+01\n",
      "  1.06158462e+01  1.06980886e+01  1.12032432e+01  4.17049202e+01]\n"
     ]
    }
   ],
   "source": [
    "w, v = LA.eig(np.array(adj_matrix))\n",
    "print(np.sort(w))"
   ]
  },
  {
   "cell_type": "markdown",
   "id": "dd2dc8cd",
   "metadata": {},
   "source": [
    "Notice for Stochastic Block Model that we need further analysis to verify it's identity."
   ]
  },
  {
   "cell_type": "code",
   "execution_count": 102,
   "id": "42234735",
   "metadata": {},
   "outputs": [
    {
     "name": "stdout",
     "output_type": "stream",
     "text": [
      "(1, array([0, 0, 0, 0, 0, 0, 0, 0, 0, 0, 0, 0, 0, 0, 0, 0, 0, 0, 0, 0, 0, 0,\n",
      "       0, 0, 0, 0, 0, 0, 0, 0, 0, 0, 0, 0, 0, 0, 0, 0, 0, 0, 0, 0, 0, 0,\n",
      "       0, 0, 0, 0, 0, 0, 0, 0, 0, 0, 0, 0, 0, 0, 0, 0, 0, 0, 0, 0, 0, 0,\n",
      "       0, 0, 0, 0, 0, 0, 0, 0, 0, 0, 0, 0, 0, 0, 0, 0, 0, 0, 0, 0, 0, 0,\n",
      "       0, 0, 0, 0, 0, 0, 0, 0, 0, 0, 0, 0, 0, 0, 0, 0, 0, 0, 0, 0, 0, 0,\n",
      "       0, 0, 0, 0, 0, 0, 0, 0, 0, 0, 0, 0, 0, 0, 0, 0, 0, 0, 0, 0, 0, 0,\n",
      "       0, 0, 0, 0, 0, 0, 0, 0, 0, 0, 0, 0, 0, 0, 0, 0, 0, 0, 0, 0, 0, 0,\n",
      "       0, 0, 0, 0, 0, 0, 0, 0, 0, 0, 0, 0, 0, 0, 0, 0, 0, 0, 0, 0, 0, 0,\n",
      "       0, 0, 0, 0, 0, 0, 0, 0, 0, 0, 0, 0, 0, 0, 0, 0, 0, 0, 0, 0, 0, 0,\n",
      "       0, 0], dtype=int32))\n"
     ]
    }
   ],
   "source": [
    "print(connected_components(np.asarray(adj_matrix)))"
   ]
  },
  {
   "cell_type": "markdown",
   "id": "73e4c699",
   "metadata": {},
   "source": [
    "Use a degree matrix and data analysis to determine the identity"
   ]
  },
  {
   "cell_type": "code",
   "execution_count": 103,
   "id": "5efe7a42",
   "metadata": {},
   "outputs": [
    {
     "name": "stdout",
     "output_type": "stream",
     "text": [
      "[45, 39, 37, 36, 42, 46, 42, 39, 35, 59, 31, 40, 41, 42, 48, 35, 31, 46, 44, 39, 47, 46, 44, 29, 50, 44, 35, 43, 37, 39, 37, 45, 42, 36, 38, 44, 37, 46, 58, 38, 39, 53, 38, 41, 56, 35, 41, 45, 43, 40, 61, 33, 36, 41, 35, 43, 44, 32, 32, 47, 45, 48, 48, 49, 48, 36, 43, 42, 36, 42, 33, 45, 34, 39, 51, 43, 47, 37, 37, 44, 32, 42, 42, 37, 51, 33, 43, 36, 47, 39, 53, 39, 42, 39, 38, 43, 41, 45, 34, 34, 41, 36, 26, 40, 45, 39, 33, 31, 46, 36, 38, 40, 44, 49, 48, 40, 42, 40, 33, 38, 42, 45, 46, 36, 35, 47, 39, 36, 45, 29, 41, 43, 49, 34, 41, 42, 43, 46, 40, 47, 42, 46, 39, 34, 41, 49, 31, 44, 44, 46, 46, 35, 38, 27, 39, 48, 54, 35, 33, 52, 40, 30, 31, 35, 32, 42, 49, 39, 38, 39, 40, 42, 43, 51, 47, 39, 37, 51, 33, 40, 40, 44, 42, 34, 38, 42, 38, 40, 46, 37, 41, 39, 40, 44, 42, 36, 39, 40, 33, 33]\n",
      "Average Degree\n",
      "40.82\n",
      "Maximum Degree\n",
      "61\n",
      "Minimum Degree\n",
      "26\n",
      "IQR\n",
      "8.0\n",
      "Standard Deviation\n",
      "5.989791315229605\n"
     ]
    }
   ],
   "source": [
    "degree_matrix = []\n",
    "for i in range(num_rows) :\n",
    "    m = row_matrix[i][0].split(',')\n",
    "    temp = 0\n",
    "    for j in range(num_cols) :\n",
    "        temp = temp + int(m[j])\n",
    "    degree_matrix.append(temp)\n",
    "\n",
    "print(degree_matrix)\n",
    "print('Average Degree')\n",
    "print(sum(degree_matrix) / len(degree_matrix))\n",
    "print('Maximum Degree') \n",
    "print(max(degree_matrix))\n",
    "print('Minimum Degree')\n",
    "print(min(degree_matrix))\n",
    "print('IQR')\n",
    "q3, q1 = np.percentile(degree_matrix, [75 ,25])\n",
    "print(q3 - q1)\n",
    "print('Standard Deviation')\n",
    "print(statistics.pstdev(degree_matrix))"
   ]
  },
  {
   "cell_type": "code",
   "execution_count": 104,
   "id": "fab2c5b5",
   "metadata": {},
   "outputs": [
    {
     "data": {
      "image/png": "[encoded data removed]",
      "text/plain": [
       "<Figure size 720x504 with 1 Axes>"
      ]
     },
     "metadata": {
      "needs_background": "light"
     },
     "output_type": "display_data"
    }
   ],
   "source": [
    "fig = plt.figure(figsize =(10, 7))\n",
    " \n",
    "# Creating plot\n",
    "plt.boxplot(degree_matrix)\n",
    " \n",
    "# show plot\n",
    "plt.show()"
   ]
  },
  {
   "cell_type": "markdown",
   "id": "46835267",
   "metadata": {},
   "source": [
    "We predict Graph A to be a Stochastic Block Model graph because of the higher max and lower min values paired with higher standard deviation observed from the degree matrix - as compared to a random graph. This shows that there likely exists inter and intra community biases that a random graph will not have. We have also verified using the function connected_components from scipy.sparse.csgraph that this graph does not have two connected components. The most natural choice therefore is to conclude that Graph A is a Stochastic Block Model Graph."
   ]
  },
  {
   "cell_type": "markdown",
   "id": "843c9105",
   "metadata": {},
   "source": [
    "# Graph B is the Completely Random Graph"
   ]
  },
  {
   "cell_type": "markdown",
   "id": "61870d25",
   "metadata": {},
   "source": [
    "Reformatting the matrices to a list representation"
   ]
  },
  {
   "cell_type": "code",
   "execution_count": 10,
   "id": "173c045e",
   "metadata": {},
   "outputs": [],
   "source": [
    "row_matrix = []\n",
    "with open('B.csv', newline='') as csvfile:\n",
    "    spamreader = csv.reader(csvfile, delimiter=' ', quotechar='|')\n",
    "    for row in spamreader:\n",
    "        row_matrix.append(row)\n",
    "        \n",
    "m = row_matrix[0][0].split(',')\n",
    "\n",
    "num_rows = len(row_matrix)\n",
    "num_cols = len(m)\n",
    "\n",
    "#print(type(m[0]))\n",
    "\n",
    "adj_matrix = []\n",
    "for i in range(num_rows) :\n",
    "    m = row_matrix[i][0].split(',')\n",
    "    temp = []\n",
    "    for j in range(num_cols) :\n",
    "        temp.append(int(m[j]))\n",
    "    adj_matrix.append(temp)\n",
    "    \n",
    "#print(adj_matrix)"
   ]
  },
  {
   "cell_type": "markdown",
   "id": "80eb96d9",
   "metadata": {},
   "source": [
    "Display the Largest and Second Largest Eigenvalue"
   ]
  },
  {
   "cell_type": "code",
   "execution_count": 11,
   "id": "811480f3",
   "metadata": {},
   "outputs": [
    {
     "name": "stdout",
     "output_type": "stream",
     "text": [
      "[-1.02772029e+01 -9.87824556e+00 -9.83929534e+00 -9.50446882e+00\n",
      " -9.41215649e+00 -9.22558410e+00 -9.04451436e+00 -8.81422917e+00\n",
      " -8.73487660e+00 -8.64814165e+00 -8.29629495e+00 -8.26465800e+00\n",
      " -8.14739202e+00 -8.07171792e+00 -7.92080959e+00 -7.77867881e+00\n",
      " -7.63290226e+00 -7.53542285e+00 -7.47481495e+00 -7.33825592e+00\n",
      " -7.19673906e+00 -7.17977268e+00 -7.00783648e+00 -6.97040987e+00\n",
      " -6.84972977e+00 -6.72193233e+00 -6.58315663e+00 -6.42492065e+00\n",
      " -6.31518194e+00 -6.29041366e+00 -6.10193054e+00 -6.05647060e+00\n",
      " -5.92832716e+00 -5.74483442e+00 -5.69857944e+00 -5.65316440e+00\n",
      " -5.56731063e+00 -5.41502224e+00 -5.35527304e+00 -5.27017343e+00\n",
      " -5.18235060e+00 -4.96472584e+00 -4.84040000e+00 -4.82678047e+00\n",
      " -4.65276988e+00 -4.63383515e+00 -4.50435066e+00 -4.41687332e+00\n",
      " -4.34868006e+00 -4.25188849e+00 -4.23042905e+00 -4.01037203e+00\n",
      " -3.82889480e+00 -3.81709153e+00 -3.69397577e+00 -3.64922288e+00\n",
      " -3.54214411e+00 -3.45274609e+00 -3.40045984e+00 -3.15234167e+00\n",
      " -3.10942355e+00 -3.09872525e+00 -2.92565293e+00 -2.91800870e+00\n",
      " -2.80121166e+00 -2.65472695e+00 -2.54657698e+00 -2.46653759e+00\n",
      " -2.44814560e+00 -2.27046550e+00 -2.20774843e+00 -2.11892117e+00\n",
      " -2.06503343e+00 -1.94375279e+00 -1.86994873e+00 -1.71148748e+00\n",
      " -1.67959323e+00 -1.53542866e+00 -1.43211182e+00 -1.38755375e+00\n",
      " -1.27051389e+00 -1.19033004e+00 -1.16133963e+00 -1.06830217e+00\n",
      " -9.10727196e-01 -8.77723641e-01 -8.07003692e-01 -7.34772851e-01\n",
      " -6.74545687e-01 -5.88553227e-01 -4.70374045e-01 -3.80111539e-01\n",
      " -3.47835228e-01 -2.60145861e-01 -1.09601467e-01 -6.63300847e-03\n",
      "  2.62697299e-02  1.58385195e-01  3.05782046e-01  3.45156018e-01\n",
      "  3.91270895e-01  4.71179720e-01  5.75635963e-01  6.44173577e-01\n",
      "  6.92460488e-01  7.63149840e-01  7.80507403e-01  9.04798888e-01\n",
      "  9.94934309e-01  1.06212720e+00  1.19724404e+00  1.28723155e+00\n",
      "  1.36552980e+00  1.53681459e+00  1.56447724e+00  1.62340023e+00\n",
      "  1.65112847e+00  1.89302560e+00  1.90916877e+00  2.03360635e+00\n",
      "  2.06839848e+00  2.16760390e+00  2.30475497e+00  2.44166126e+00\n",
      "  2.48214987e+00  2.60526071e+00  2.78222670e+00  2.82260857e+00\n",
      "  2.87394510e+00  2.97678530e+00  3.11143288e+00  3.15552984e+00\n",
      "  3.25435122e+00  3.31231463e+00  3.37693760e+00  3.39316269e+00\n",
      "  3.45370261e+00  3.75272277e+00  3.76030278e+00  3.83613946e+00\n",
      "  3.93026164e+00  4.10621649e+00  4.23318184e+00  4.28374877e+00\n",
      "  4.32088564e+00  4.41424137e+00  4.60170772e+00  4.61511758e+00\n",
      "  4.70592776e+00  4.75041524e+00  4.83652869e+00  4.96343206e+00\n",
      "  5.06969989e+00  5.14464918e+00  5.20643738e+00  5.24769087e+00\n",
      "  5.41190398e+00  5.45086847e+00  5.69870106e+00  5.73015332e+00\n",
      "  5.78606349e+00  5.88985675e+00  5.94834744e+00  6.05906286e+00\n",
      "  6.21033376e+00  6.32703249e+00  6.39143589e+00  6.58562948e+00\n",
      "  6.69386094e+00  6.72654248e+00  6.80993344e+00  6.95069319e+00\n",
      "  7.00372316e+00  7.17688773e+00  7.27043239e+00  7.46097888e+00\n",
      "  7.53527153e+00  7.57148607e+00  7.60067728e+00  7.84201074e+00\n",
      "  7.95302560e+00  8.00024429e+00  8.28137845e+00  8.32830762e+00\n",
      "  8.43643659e+00  8.61026982e+00  8.61986645e+00  8.90047571e+00\n",
      "  9.11484093e+00  9.21927293e+00  9.40325297e+00  9.63499296e+00\n",
      "  9.72469727e+00  9.86842242e+00  1.00390405e+01  1.03461221e+01\n",
      "  1.04241968e+01  1.08578296e+01  2.55693582e+01  4.16172314e+01]\n"
     ]
    }
   ],
   "source": [
    "w, v = LA.eig(np.array(adj_matrix))\n",
    "print(np.sort(w))"
   ]
  },
  {
   "cell_type": "markdown",
   "id": "3498a815",
   "metadata": {},
   "source": [
    "Notice for Random Graph that we need further analysis to verify it's identity."
   ]
  },
  {
   "cell_type": "code",
   "execution_count": 106,
   "id": "b19b4e88",
   "metadata": {},
   "outputs": [
    {
     "name": "stdout",
     "output_type": "stream",
     "text": [
      "(1, array([0, 0, 0, 0, 0, 0, 0, 0, 0, 0, 0, 0, 0, 0, 0, 0, 0, 0, 0, 0, 0, 0,\n",
      "       0, 0, 0, 0, 0, 0, 0, 0, 0, 0, 0, 0, 0, 0, 0, 0, 0, 0, 0, 0, 0, 0,\n",
      "       0, 0, 0, 0, 0, 0, 0, 0, 0, 0, 0, 0, 0, 0, 0, 0, 0, 0, 0, 0, 0, 0,\n",
      "       0, 0, 0, 0, 0, 0, 0, 0, 0, 0, 0, 0, 0, 0, 0, 0, 0, 0, 0, 0, 0, 0,\n",
      "       0, 0, 0, 0, 0, 0, 0, 0, 0, 0, 0, 0, 0, 0, 0, 0, 0, 0, 0, 0, 0, 0,\n",
      "       0, 0, 0, 0, 0, 0, 0, 0, 0, 0, 0, 0, 0, 0, 0, 0, 0, 0, 0, 0, 0, 0,\n",
      "       0, 0, 0, 0, 0, 0, 0, 0, 0, 0, 0, 0, 0, 0, 0, 0, 0, 0, 0, 0, 0, 0,\n",
      "       0, 0, 0, 0, 0, 0, 0, 0, 0, 0, 0, 0, 0, 0, 0, 0, 0, 0, 0, 0, 0, 0,\n",
      "       0, 0, 0, 0, 0, 0, 0, 0, 0, 0, 0, 0, 0, 0, 0, 0, 0, 0, 0, 0, 0, 0,\n",
      "       0, 0], dtype=int32))\n"
     ]
    }
   ],
   "source": [
    "print(connected_components(np.asarray(adj_matrix)))"
   ]
  },
  {
   "cell_type": "markdown",
   "id": "7067d5a1",
   "metadata": {},
   "source": [
    "Use a degree matrix and data analysis to determine the identity"
   ]
  },
  {
   "cell_type": "code",
   "execution_count": 107,
   "id": "17fe91d2",
   "metadata": {},
   "outputs": [
    {
     "name": "stdout",
     "output_type": "stream",
     "text": [
      "[45, 42, 38, 43, 46, 41, 48, 30, 46, 42, 37, 43, 35, 39, 32, 52, 44, 38, 36, 44, 32, 34, 38, 46, 36, 34, 40, 38, 42, 39, 48, 34, 47, 32, 37, 33, 48, 43, 44, 48, 36, 33, 47, 32, 33, 39, 38, 45, 47, 50, 46, 36, 41, 42, 38, 49, 39, 38, 58, 44, 36, 43, 45, 47, 35, 46, 49, 38, 43, 38, 40, 43, 38, 38, 39, 40, 51, 32, 46, 52, 47, 50, 42, 47, 39, 48, 41, 36, 49, 34, 42, 37, 37, 35, 42, 35, 35, 34, 42, 31, 42, 38, 29, 40, 49, 39, 33, 36, 43, 48, 44, 48, 41, 38, 42, 39, 41, 41, 39, 37, 34, 34, 32, 32, 53, 40, 44, 49, 42, 49, 34, 53, 41, 45, 33, 48, 46, 40, 41, 41, 44, 31, 37, 43, 44, 42, 35, 38, 49, 37, 45, 38, 43, 38, 48, 27, 35, 41, 47, 38, 41, 44, 44, 38, 38, 42, 38, 38, 40, 43, 45, 39, 39, 40, 44, 37, 44, 52, 43, 46, 47, 36, 34, 35, 46, 45, 50, 36, 42, 42, 44, 36, 41, 36, 42, 38, 39, 48, 41, 38]\n",
      "Average Degree\n",
      "40.88\n",
      "Maximum Degree\n",
      "58\n",
      "Minimum Degree\n",
      "27\n",
      "IQR\n",
      "8.0\n",
      "Standard Deviation\n",
      "5.460366288079949\n"
     ]
    }
   ],
   "source": [
    "degree_matrix = []\n",
    "for i in range(num_rows) :\n",
    "    m = row_matrix[i][0].split(',')\n",
    "    temp = 0\n",
    "    for j in range(num_cols) :\n",
    "        temp = temp + int(m[j])\n",
    "    degree_matrix.append(temp)\n",
    "\n",
    "print(degree_matrix)\n",
    "print('Average Degree')\n",
    "print(sum(degree_matrix) / len(degree_matrix))\n",
    "print('Maximum Degree') \n",
    "print(max(degree_matrix))\n",
    "print('Minimum Degree')\n",
    "print(min(degree_matrix))\n",
    "print('IQR')\n",
    "q3, q1 = np.percentile(degree_matrix, [75 ,25])\n",
    "print(q3 - q1)\n",
    "print('Standard Deviation')\n",
    "print(statistics.pstdev(degree_matrix))"
   ]
  },
  {
   "cell_type": "code",
   "execution_count": 108,
   "id": "39b96a7c",
   "metadata": {},
   "outputs": [
    {
     "data": {
      "image/png": "[encoded data removed]",
      "text/plain": [
       "<Figure size 720x504 with 1 Axes>"
      ]
     },
     "metadata": {
      "needs_background": "light"
     },
     "output_type": "display_data"
    }
   ],
   "source": [
    "fig = plt.figure(figsize =(10, 7))\n",
    " \n",
    "# Creating plot\n",
    "plt.boxplot(degree_matrix)\n",
    " \n",
    "# show plot\n",
    "plt.show()"
   ]
  },
  {
   "cell_type": "markdown",
   "id": "6f5ba553",
   "metadata": {},
   "source": [
    "We predict Graph B to be a Random graph because of the lower max and higher min values paired with lower standard deviation observed from the degree matrix - as compared to a Stochastic Block Model graph. This shows that there likely does not exist inter and intra community biases that a SBM will have. All the edges are likely generated evenly using the probability given. We have also verified using the function connected_components from scipy.sparse.csgraph that this graph does not have two connected components. The most natural choice therefore is to conclude that Graph B is a Random Graph."
   ]
  },
  {
   "cell_type": "markdown",
   "id": "c800e938",
   "metadata": {},
   "source": [
    "# Graph C is the Graph with Two Connected Components"
   ]
  },
  {
   "cell_type": "markdown",
   "id": "137210fd",
   "metadata": {},
   "source": [
    "Reformatting the matrices to a list representation"
   ]
  },
  {
   "cell_type": "code",
   "execution_count": 12,
   "id": "411dbda8",
   "metadata": {},
   "outputs": [],
   "source": [
    "row_matrix = []\n",
    "with open('C.csv', newline='') as csvfile:\n",
    "    spamreader = csv.reader(csvfile, delimiter=' ', quotechar='|')\n",
    "    for row in spamreader:\n",
    "        row_matrix.append(row)\n",
    "        \n",
    "m = row_matrix[0][0].split(',')\n",
    "\n",
    "num_rows = len(row_matrix)\n",
    "num_cols = len(m)\n",
    "\n",
    "#print(type(m[0]))\n",
    "\n",
    "adj_matrix = []\n",
    "for i in range(num_rows) :\n",
    "    m = row_matrix[i][0].split(',')\n",
    "    temp = []\n",
    "    for j in range(num_cols) :\n",
    "        temp.append(int(m[j]))\n",
    "    adj_matrix.append(temp)\n",
    "    \n",
    "#print(len(adj_matrix[1]))"
   ]
  },
  {
   "cell_type": "markdown",
   "id": "8b2fe8a1",
   "metadata": {},
   "source": [
    "Display the Largest and Second Largest Eigenvalue"
   ]
  },
  {
   "cell_type": "code",
   "execution_count": 13,
   "id": "c6a8e612",
   "metadata": {},
   "outputs": [
    {
     "name": "stdout",
     "output_type": "stream",
     "text": [
      "[-9.18666451 -9.08691509 -8.43096794 -8.41407739 -8.23030228 -8.18085866\n",
      " -8.03684494 -7.82258944 -7.78265924 -7.6614387  -7.45722026 -7.25047426\n",
      " -7.15354155 -7.07839406 -6.88357372 -6.85912159 -6.67004106 -6.53659237\n",
      " -6.52144785 -6.47289586 -6.24038271 -6.16574624 -6.15679554 -6.03925855\n",
      " -6.00558369 -5.79565182 -5.69256304 -5.61110503 -5.48616069 -5.45221535\n",
      " -5.2869274  -5.25368503 -5.13069335 -5.09106389 -4.97578226 -4.95918136\n",
      " -4.7788159  -4.75090125 -4.66093429 -4.52037573 -4.48746584 -4.3672096\n",
      " -4.31728493 -4.29834173 -4.12452316 -4.04160995 -4.01964905 -3.99485778\n",
      " -3.96734266 -3.884205   -3.6639957  -3.59043363 -3.5666016  -3.46245507\n",
      " -3.34230843 -3.32477077 -3.17319228 -3.014429   -2.9613291  -2.91589919\n",
      " -2.73796266 -2.70071054 -2.61235326 -2.59778877 -2.5029337  -2.36995876\n",
      " -2.32113468 -2.28961616 -2.17195797 -2.16431583 -1.94709199 -1.93270648\n",
      " -1.83211546 -1.78835555 -1.68085239 -1.50707828 -1.4594727  -1.45299043\n",
      " -1.27942791 -1.21172353 -1.18054742 -1.14282921 -1.02690165 -1.01260534\n",
      " -0.83627327 -0.82347146 -0.74451003 -0.68995159 -0.56606819 -0.4689029\n",
      " -0.26426672 -0.12628375 -0.09394141 -0.05056761  0.0515455   0.12570157\n",
      "  0.17219631  0.28655237  0.32085418  0.3427164   0.41928695  0.56246812\n",
      "  0.60749585  0.79032307  0.80849644  0.89267162  0.90158891  1.01611103\n",
      "  1.09065801  1.17926958  1.26241831  1.36670947  1.50528494  1.52818713\n",
      "  1.6778748   1.75774936  1.81933016  1.87722906  1.97500238  2.0346007\n",
      "  2.11909847  2.27480991  2.29882828  2.36958508  2.37832067  2.47309879\n",
      "  2.48111682  2.55512082  2.61089083  2.71129043  2.88528869  2.90880148\n",
      "  2.95666052  3.02970636  3.07051916  3.09158534  3.37642678  3.51147971\n",
      "  3.53698664  3.68919462  3.73592056  3.77473573  3.99708503  4.01003031\n",
      "  4.10027484  4.25316362  4.29982326  4.37981775  4.40249344  4.49405905\n",
      "  4.5427343   4.65977933  4.70998467  4.74111854  4.84998202  4.93889995\n",
      "  5.06274095  5.32563579  5.53711644  5.65268244  5.67054649  5.7816321\n",
      "  5.79033471  5.93217997  5.94663276  6.07390144  6.10291382  6.14813625\n",
      "  6.23536792  6.31272277  6.36398345  6.48277825  6.65309836  6.73322452\n",
      "  6.82739945  6.94710167  6.95238315  7.12822337  7.34566196  7.51691503\n",
      "  7.56459232  7.75749346  7.76644844  7.79854018  7.80480922  8.04391482\n",
      "  8.17426632  8.21703124  8.40077278  8.63405549  8.79807641  8.86682542\n",
      "  8.95820458  9.29337144  9.30095459  9.44266601 10.11859755 10.33030407\n",
      " 42.63612629 42.85461828]\n"
     ]
    }
   ],
   "source": [
    "w, v = LA.eig(np.array(adj_matrix))\n",
    "print(np.sort(w))"
   ]
  },
  {
   "cell_type": "markdown",
   "id": "bd6d580c",
   "metadata": {},
   "source": [
    "Notice for Two Connected Component Graph that we do not need further analysis to verify it's identity."
   ]
  },
  {
   "cell_type": "code",
   "execution_count": 53,
   "id": "9cbbfcb6",
   "metadata": {},
   "outputs": [
    {
     "name": "stdout",
     "output_type": "stream",
     "text": [
      "(2, array([0, 0, 0, 1, 1, 0, 1, 0, 1, 0, 1, 1, 1, 0, 0, 0, 1, 0, 0, 1, 0, 1,\n",
      "       1, 0, 1, 1, 0, 1, 0, 1, 0, 1, 1, 0, 1, 0, 1, 0, 0, 1, 1, 0, 1, 0,\n",
      "       1, 1, 0, 1, 1, 0, 0, 1, 1, 0, 1, 0, 1, 0, 0, 0, 0, 0, 1, 0, 1, 1,\n",
      "       1, 1, 1, 0, 0, 0, 1, 1, 0, 0, 1, 0, 0, 1, 1, 0, 1, 1, 0, 1, 0, 0,\n",
      "       0, 0, 0, 1, 0, 0, 1, 1, 1, 0, 1, 0, 0, 1, 1, 0, 1, 0, 0, 1, 1, 0,\n",
      "       0, 0, 0, 1, 0, 0, 0, 0, 1, 1, 1, 1, 1, 0, 0, 0, 1, 1, 1, 0, 0, 1,\n",
      "       1, 1, 1, 0, 1, 0, 1, 1, 0, 0, 1, 0, 1, 0, 1, 0, 1, 0, 0, 1, 1, 0,\n",
      "       1, 1, 1, 0, 1, 1, 1, 0, 0, 1, 0, 1, 1, 0, 1, 1, 1, 0, 0, 0, 0, 0,\n",
      "       1, 1, 1, 1, 0, 1, 0, 0, 1, 0, 1, 0, 1, 1, 0, 0, 0, 1, 1, 0, 1, 0,\n",
      "       0, 0], dtype=int32))\n"
     ]
    }
   ],
   "source": [
    "print(connected_components(np.asarray(adj_matrix)))"
   ]
  },
  {
   "cell_type": "markdown",
   "id": "9ad222d6",
   "metadata": {},
   "source": [
    "Based on the conclusion of connected_components from scipy.sparse.csgraph we determine that Graph C is Two Connected Components."
   ]
  }
 ],
 "metadata": {
  "kernelspec": {
   "display_name": "Python 3 (ipykernel)",
   "language": "python",
   "name": "python3"
  },
  "language_info": {
   "codemirror_mode": {
    "name": "ipython",
    "version": 3
   },
   "file_extension": ".py",
   "mimetype": "text/x-python",
   "name": "python",
   "nbconvert_exporter": "python",
   "pygments_lexer": "ipython3",
   "version": "3.9.12"
  }
 },
 "nbformat": 4,
 "nbformat_minor": 5
}
