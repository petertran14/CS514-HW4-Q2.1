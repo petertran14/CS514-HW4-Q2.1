{
 "cells": [
  {
   "cell_type": "code",
   "execution_count": 109,
   "id": "07aa0093",
   "metadata": {},
   "outputs": [],
   "source": [
    "from scipy.sparse.csgraph import connected_components\n",
    "import numpy as np\n",
    "import csv\n",
    "import matplotlib.pyplot as plt\n",
    "import statistics"
   ]
  },
  {
   "cell_type": "markdown",
   "id": "8d7a6710",
   "metadata": {},
   "source": [
    "# Graph A is the Stochastic Block Model"
   ]
  },
  {
   "cell_type": "code",
   "execution_count": 101,
   "id": "61febb12",
   "metadata": {},
   "outputs": [],
   "source": [
    "row_matrix = []\n",
    "with open('A.csv', newline='') as csvfile:\n",
    "    spamreader = csv.reader(csvfile, delimiter=' ', quotechar='|')\n",
    "    for row in spamreader:\n",
    "        row_matrix.append(row)\n",
    "        \n",
    "m = row_matrix[0][0].split(',')\n",
    "\n",
    "num_rows = len(row_matrix)\n",
    "num_cols = len(m)\n",
    "\n",
    "#print(type(m[0]))\n",
    "\n",
    "adj_matrix = []\n",
    "for i in range(num_rows) :\n",
    "    m = row_matrix[i][0].split(',')\n",
    "    temp = []\n",
    "    for j in range(num_cols) :\n",
    "        temp.append(int(m[j]))\n",
    "    adj_matrix.append(temp)\n",
    "    \n",
    "#print(len(adj_matrix[1]))"
   ]
  },
  {
   "cell_type": "code",
   "execution_count": 102,
   "id": "a5919abd",
   "metadata": {},
   "outputs": [
    {
     "name": "stdout",
     "output_type": "stream",
     "text": [
      "(1, array([0, 0, 0, 0, 0, 0, 0, 0, 0, 0, 0, 0, 0, 0, 0, 0, 0, 0, 0, 0, 0, 0,\n",
      "       0, 0, 0, 0, 0, 0, 0, 0, 0, 0, 0, 0, 0, 0, 0, 0, 0, 0, 0, 0, 0, 0,\n",
      "       0, 0, 0, 0, 0, 0, 0, 0, 0, 0, 0, 0, 0, 0, 0, 0, 0, 0, 0, 0, 0, 0,\n",
      "       0, 0, 0, 0, 0, 0, 0, 0, 0, 0, 0, 0, 0, 0, 0, 0, 0, 0, 0, 0, 0, 0,\n",
      "       0, 0, 0, 0, 0, 0, 0, 0, 0, 0, 0, 0, 0, 0, 0, 0, 0, 0, 0, 0, 0, 0,\n",
      "       0, 0, 0, 0, 0, 0, 0, 0, 0, 0, 0, 0, 0, 0, 0, 0, 0, 0, 0, 0, 0, 0,\n",
      "       0, 0, 0, 0, 0, 0, 0, 0, 0, 0, 0, 0, 0, 0, 0, 0, 0, 0, 0, 0, 0, 0,\n",
      "       0, 0, 0, 0, 0, 0, 0, 0, 0, 0, 0, 0, 0, 0, 0, 0, 0, 0, 0, 0, 0, 0,\n",
      "       0, 0, 0, 0, 0, 0, 0, 0, 0, 0, 0, 0, 0, 0, 0, 0, 0, 0, 0, 0, 0, 0,\n",
      "       0, 0], dtype=int32))\n"
     ]
    }
   ],
   "source": [
    "print(connected_components(np.asarray(adj_matrix)))"
   ]
  },
  {
   "cell_type": "code",
   "execution_count": 103,
   "id": "6f1fe416",
   "metadata": {},
   "outputs": [
    {
     "name": "stdout",
     "output_type": "stream",
     "text": [
      "[45, 39, 37, 36, 42, 46, 42, 39, 35, 59, 31, 40, 41, 42, 48, 35, 31, 46, 44, 39, 47, 46, 44, 29, 50, 44, 35, 43, 37, 39, 37, 45, 42, 36, 38, 44, 37, 46, 58, 38, 39, 53, 38, 41, 56, 35, 41, 45, 43, 40, 61, 33, 36, 41, 35, 43, 44, 32, 32, 47, 45, 48, 48, 49, 48, 36, 43, 42, 36, 42, 33, 45, 34, 39, 51, 43, 47, 37, 37, 44, 32, 42, 42, 37, 51, 33, 43, 36, 47, 39, 53, 39, 42, 39, 38, 43, 41, 45, 34, 34, 41, 36, 26, 40, 45, 39, 33, 31, 46, 36, 38, 40, 44, 49, 48, 40, 42, 40, 33, 38, 42, 45, 46, 36, 35, 47, 39, 36, 45, 29, 41, 43, 49, 34, 41, 42, 43, 46, 40, 47, 42, 46, 39, 34, 41, 49, 31, 44, 44, 46, 46, 35, 38, 27, 39, 48, 54, 35, 33, 52, 40, 30, 31, 35, 32, 42, 49, 39, 38, 39, 40, 42, 43, 51, 47, 39, 37, 51, 33, 40, 40, 44, 42, 34, 38, 42, 38, 40, 46, 37, 41, 39, 40, 44, 42, 36, 39, 40, 33, 33]\n",
      "Average Degree\n",
      "40.82\n",
      "Maximum Degree\n",
      "61\n",
      "Minimum Degree\n",
      "26\n",
      "IQR\n",
      "8.0\n",
      "Standard Deviation\n",
      "5.989791315229605\n"
     ]
    }
   ],
   "source": [
    "degree_matrix = []\n",
    "for i in range(num_rows) :\n",
    "    m = row_matrix[i][0].split(',')\n",
    "    temp = 0\n",
    "    for j in range(num_cols) :\n",
    "        temp = temp + int(m[j])\n",
    "    degree_matrix.append(temp)\n",
    "\n",
    "print(degree_matrix)\n",
    "print('Average Degree')\n",
    "print(sum(degree_matrix) / len(degree_matrix))\n",
    "print('Maximum Degree') \n",
    "print(max(degree_matrix))\n",
    "print('Minimum Degree')\n",
    "print(min(degree_matrix))\n",
    "print('IQR')\n",
    "q3, q1 = np.percentile(degree_matrix, [75 ,25])\n",
    "print(q3 - q1)\n",
    "print('Standard Deviation')\n",
    "print(statistics.pstdev(degree_matrix))"
   ]
  },
  {
   "cell_type": "code",
   "execution_count": 104,
   "id": "47cdfcd5",
   "metadata": {},
   "outputs": [
    {
     "data": {
      "image/png": "[encoded data removed]",
      "text/plain": [
       "<Figure size 720x504 with 1 Axes>"
      ]
     },
     "metadata": {
      "needs_background": "light"
     },
     "output_type": "display_data"
    }
   ],
   "source": [
    "fig = plt.figure(figsize =(10, 7))\n",
    " \n",
    "# Creating plot\n",
    "plt.boxplot(degree_matrix)\n",
    " \n",
    "# show plot\n",
    "plt.show()"
   ]
  },
  {
   "cell_type": "markdown",
   "id": "c5fba0be",
   "metadata": {},
   "source": [
    "# Graph B is the Completely Random Graph"
   ]
  },
  {
   "cell_type": "code",
   "execution_count": 105,
   "id": "f404f02e",
   "metadata": {},
   "outputs": [],
   "source": [
    "row_matrix = []\n",
    "with open('B.csv', newline='') as csvfile:\n",
    "    spamreader = csv.reader(csvfile, delimiter=' ', quotechar='|')\n",
    "    for row in spamreader:\n",
    "        row_matrix.append(row)\n",
    "        \n",
    "m = row_matrix[0][0].split(',')\n",
    "\n",
    "num_rows = len(row_matrix)\n",
    "num_cols = len(m)\n",
    "\n",
    "#print(type(m[0]))\n",
    "\n",
    "adj_matrix = []\n",
    "for i in range(num_rows) :\n",
    "    m = row_matrix[i][0].split(',')\n",
    "    temp = []\n",
    "    for j in range(num_cols) :\n",
    "        temp.append(int(m[j]))\n",
    "    adj_matrix.append(temp)\n",
    "    \n",
    "#print(adj_matrix)"
   ]
  },
  {
   "cell_type": "code",
   "execution_count": 106,
   "id": "e450040c",
   "metadata": {},
   "outputs": [
    {
     "name": "stdout",
     "output_type": "stream",
     "text": [
      "(1, array([0, 0, 0, 0, 0, 0, 0, 0, 0, 0, 0, 0, 0, 0, 0, 0, 0, 0, 0, 0, 0, 0,\n",
      "       0, 0, 0, 0, 0, 0, 0, 0, 0, 0, 0, 0, 0, 0, 0, 0, 0, 0, 0, 0, 0, 0,\n",
      "       0, 0, 0, 0, 0, 0, 0, 0, 0, 0, 0, 0, 0, 0, 0, 0, 0, 0, 0, 0, 0, 0,\n",
      "       0, 0, 0, 0, 0, 0, 0, 0, 0, 0, 0, 0, 0, 0, 0, 0, 0, 0, 0, 0, 0, 0,\n",
      "       0, 0, 0, 0, 0, 0, 0, 0, 0, 0, 0, 0, 0, 0, 0, 0, 0, 0, 0, 0, 0, 0,\n",
      "       0, 0, 0, 0, 0, 0, 0, 0, 0, 0, 0, 0, 0, 0, 0, 0, 0, 0, 0, 0, 0, 0,\n",
      "       0, 0, 0, 0, 0, 0, 0, 0, 0, 0, 0, 0, 0, 0, 0, 0, 0, 0, 0, 0, 0, 0,\n",
      "       0, 0, 0, 0, 0, 0, 0, 0, 0, 0, 0, 0, 0, 0, 0, 0, 0, 0, 0, 0, 0, 0,\n",
      "       0, 0, 0, 0, 0, 0, 0, 0, 0, 0, 0, 0, 0, 0, 0, 0, 0, 0, 0, 0, 0, 0,\n",
      "       0, 0], dtype=int32))\n"
     ]
    }
   ],
   "source": [
    "print(connected_components(np.asarray(adj_matrix)))"
   ]
  },
  {
   "cell_type": "code",
   "execution_count": 107,
   "id": "7214efb6",
   "metadata": {},
   "outputs": [
    {
     "name": "stdout",
     "output_type": "stream",
     "text": [
      "[45, 42, 38, 43, 46, 41, 48, 30, 46, 42, 37, 43, 35, 39, 32, 52, 44, 38, 36, 44, 32, 34, 38, 46, 36, 34, 40, 38, 42, 39, 48, 34, 47, 32, 37, 33, 48, 43, 44, 48, 36, 33, 47, 32, 33, 39, 38, 45, 47, 50, 46, 36, 41, 42, 38, 49, 39, 38, 58, 44, 36, 43, 45, 47, 35, 46, 49, 38, 43, 38, 40, 43, 38, 38, 39, 40, 51, 32, 46, 52, 47, 50, 42, 47, 39, 48, 41, 36, 49, 34, 42, 37, 37, 35, 42, 35, 35, 34, 42, 31, 42, 38, 29, 40, 49, 39, 33, 36, 43, 48, 44, 48, 41, 38, 42, 39, 41, 41, 39, 37, 34, 34, 32, 32, 53, 40, 44, 49, 42, 49, 34, 53, 41, 45, 33, 48, 46, 40, 41, 41, 44, 31, 37, 43, 44, 42, 35, 38, 49, 37, 45, 38, 43, 38, 48, 27, 35, 41, 47, 38, 41, 44, 44, 38, 38, 42, 38, 38, 40, 43, 45, 39, 39, 40, 44, 37, 44, 52, 43, 46, 47, 36, 34, 35, 46, 45, 50, 36, 42, 42, 44, 36, 41, 36, 42, 38, 39, 48, 41, 38]\n",
      "Average Degree\n",
      "40.88\n",
      "Maximum Degree\n",
      "58\n",
      "Minimum Degree\n",
      "27\n",
      "IQR\n",
      "8.0\n",
      "Standard Deviation\n",
      "5.460366288079949\n"
     ]
    }
   ],
   "source": [
    "degree_matrix = []\n",
    "for i in range(num_rows) :\n",
    "    m = row_matrix[i][0].split(',')\n",
    "    temp = 0\n",
    "    for j in range(num_cols) :\n",
    "        temp = temp + int(m[j])\n",
    "    degree_matrix.append(temp)\n",
    "\n",
    "print(degree_matrix)\n",
    "print('Average Degree')\n",
    "print(sum(degree_matrix) / len(degree_matrix))\n",
    "print('Maximum Degree') \n",
    "print(max(degree_matrix))\n",
    "print('Minimum Degree')\n",
    "print(min(degree_matrix))\n",
    "print('IQR')\n",
    "q3, q1 = np.percentile(degree_matrix, [75 ,25])\n",
    "print(q3 - q1)\n",
    "print('Standard Deviation')\n",
    "print(statistics.pstdev(degree_matrix))"
   ]
  },
  {
   "cell_type": "code",
   "execution_count": 108,
   "id": "87d8c939",
   "metadata": {},
   "outputs": [
    {
     "data": {
      "image/png": "[encoded data removed]",
      "text/plain": [
       "<Figure size 720x504 with 1 Axes>"
      ]
     },
     "metadata": {
      "needs_background": "light"
     },
     "output_type": "display_data"
    }
   ],
   "source": [
    "fig = plt.figure(figsize =(10, 7))\n",
    " \n",
    "# Creating plot\n",
    "plt.boxplot(degree_matrix)\n",
    " \n",
    "# show plot\n",
    "plt.show()"
   ]
  },
  {
   "cell_type": "markdown",
   "id": "8ca7854b",
   "metadata": {},
   "source": [
    "# Graph C is the Graph with Two Connected Components"
   ]
  },
  {
   "cell_type": "code",
   "execution_count": 52,
   "id": "f68a363b",
   "metadata": {},
   "outputs": [],
   "source": [
    "row_matrix = []\n",
    "with open('C.csv', newline='') as csvfile:\n",
    "    spamreader = csv.reader(csvfile, delimiter=' ', quotechar='|')\n",
    "    for row in spamreader:\n",
    "        row_matrix.append(row)\n",
    "        \n",
    "m = row_matrix[0][0].split(',')\n",
    "\n",
    "num_rows = len(row_matrix)\n",
    "num_cols = len(m)\n",
    "\n",
    "#print(type(m[0]))\n",
    "\n",
    "adj_matrix = []\n",
    "for i in range(num_rows) :\n",
    "    m = row_matrix[i][0].split(',')\n",
    "    temp = []\n",
    "    for j in range(num_cols) :\n",
    "        temp.append(int(m[j]))\n",
    "    adj_matrix.append(temp)\n",
    "    \n",
    "#print(len(adj_matrix[1]))"
   ]
  },
  {
   "cell_type": "code",
   "execution_count": 53,
   "id": "69550983",
   "metadata": {},
   "outputs": [
    {
     "name": "stdout",
     "output_type": "stream",
     "text": [
      "(2, array([0, 0, 0, 1, 1, 0, 1, 0, 1, 0, 1, 1, 1, 0, 0, 0, 1, 0, 0, 1, 0, 1,\n",
      "       1, 0, 1, 1, 0, 1, 0, 1, 0, 1, 1, 0, 1, 0, 1, 0, 0, 1, 1, 0, 1, 0,\n",
      "       1, 1, 0, 1, 1, 0, 0, 1, 1, 0, 1, 0, 1, 0, 0, 0, 0, 0, 1, 0, 1, 1,\n",
      "       1, 1, 1, 0, 0, 0, 1, 1, 0, 0, 1, 0, 0, 1, 1, 0, 1, 1, 0, 1, 0, 0,\n",
      "       0, 0, 0, 1, 0, 0, 1, 1, 1, 0, 1, 0, 0, 1, 1, 0, 1, 0, 0, 1, 1, 0,\n",
      "       0, 0, 0, 1, 0, 0, 0, 0, 1, 1, 1, 1, 1, 0, 0, 0, 1, 1, 1, 0, 0, 1,\n",
      "       1, 1, 1, 0, 1, 0, 1, 1, 0, 0, 1, 0, 1, 0, 1, 0, 1, 0, 0, 1, 1, 0,\n",
      "       1, 1, 1, 0, 1, 1, 1, 0, 0, 1, 0, 1, 1, 0, 1, 1, 1, 0, 0, 0, 0, 0,\n",
      "       1, 1, 1, 1, 0, 1, 0, 0, 1, 0, 1, 0, 1, 1, 0, 0, 0, 1, 1, 0, 1, 0,\n",
      "       0, 0], dtype=int32))\n"
     ]
    }
   ],
   "source": [
    "print(connected_components(np.asarray(adj_matrix)))"
   ]
  },
  {
   "cell_type": "code",
   "execution_count": null,
   "id": "e3791d16",
   "metadata": {},
   "outputs": [],
   "source": []
  }
 ],
 "metadata": {
  "kernelspec": {
   "display_name": "Python 3 (ipykernel)",
   "language": "python",
   "name": "python3"
  },
  "language_info": {
   "codemirror_mode": {
    "name": "ipython",
    "version": 3
   },
   "file_extension": ".py",
   "mimetype": "text/x-python",
   "name": "python",
   "nbconvert_exporter": "python",
   "pygments_lexer": "ipython3",
   "version": "3.9.12"
  }
 },
 "nbformat": 4,
 "nbformat_minor": 5
}
